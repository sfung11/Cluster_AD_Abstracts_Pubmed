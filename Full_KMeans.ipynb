{
 "cells": [
  {
   "cell_type": "markdown",
   "metadata": {},
   "source": [
    "#### 4. Running KMeans on full dataset"
   ]
  },
  {
   "cell_type": "code",
   "execution_count": 1,
   "metadata": {
    "collapsed": true
   },
   "outputs": [],
   "source": [
    "# ssh -NL 12345:localhost:27017 awscloud\n",
    "from pymongo import MongoClient\n",
    "client = MongoClient(port=12345) # this is the port set by the SSH tunnel\n",
    "db = client.pubmed_ad # database name"
   ]
  },
  {
   "cell_type": "code",
   "execution_count": 2,
   "metadata": {
    "collapsed": false
   },
   "outputs": [
    {
     "data": {
      "text/plain": [
       "130672"
      ]
     },
     "execution_count": 2,
     "metadata": {},
     "output_type": "execute_result"
    }
   ],
   "source": [
    "db.alz.count()"
   ]
  },
  {
   "cell_type": "code",
   "execution_count": 3,
   "metadata": {
    "collapsed": true
   },
   "outputs": [],
   "source": [
    "# create lists containing BOTH abstracts (AB) or titles (TI)\n",
    "cursor = db.alz.find(\n",
    "    { 'AB': { '$ne': None }, 'TI': {'$ne': None}},\n",
    "    { 'AB': 1, '_id': 0, 'TI': 1 }\n",
    ")\n",
    "\n",
    "docs = list(cursor)"
   ]
  },
  {
   "cell_type": "code",
   "execution_count": 4,
   "metadata": {
    "collapsed": true
   },
   "outputs": [],
   "source": [
    "import pandas as pd \n",
    "import numpy as np\n",
    "from matplotlib import pyplot as plt\n",
    "%matplotlib inline\n",
    "\n",
    "from sklearn.feature_extraction.text import TfidfVectorizer\n",
    "from sklearn.cluster import KMeans\n",
    "\n",
    "from collections import Counter"
   ]
  },
  {
   "cell_type": "code",
   "execution_count": 5,
   "metadata": {
    "collapsed": true
   },
   "outputs": [],
   "source": [
    "# gather the abstracts\n",
    "docs_ab = []\n",
    "\n",
    "for i, abstract in enumerate(d['AB'] for d in docs): \n",
    "    docs_ab.append(abstract)"
   ]
  },
  {
   "cell_type": "code",
   "execution_count": 12,
   "metadata": {
    "collapsed": false
   },
   "outputs": [
    {
     "data": {
      "text/plain": [
       "0.8839613689237173"
      ]
     },
     "execution_count": 12,
     "metadata": {},
     "output_type": "execute_result"
    }
   ],
   "source": [
    "len(docs_ab) #115509\n",
    "len(docs_ab)/(db.alz.count())"
   ]
  },
  {
   "cell_type": "code",
   "execution_count": 7,
   "metadata": {
    "collapsed": true
   },
   "outputs": [],
   "source": [
    "from sklearn.pipeline import Pipeline\n",
    "from sklearn.decomposition import TruncatedSVD\n",
    "from sklearn.preprocessing import Normalizer\n",
    "\n",
    "# Preprocessing pipeline\n",
    "\n",
    "pipe = [\n",
    "    ('tfidf', TfidfVectorizer(stop_words=\"english\", \n",
    "                        token_pattern=\"\\\\b[a-zA-Z][a-zA-Z]+\\\\b\", \n",
    "                        min_df=3)),\n",
    "    ('lsa', TruncatedSVD(n_components=300)),\n",
    "    ('norm', Normalizer())\n",
    "]\n",
    "pipe = Pipeline(pipe)"
   ]
  },
  {
   "cell_type": "markdown",
   "metadata": {},
   "source": [
    "#### Abstracts"
   ]
  },
  {
   "cell_type": "code",
   "execution_count": 8,
   "metadata": {
    "collapsed": true
   },
   "outputs": [],
   "source": [
    "dtm_svd = pipe.fit_transform(docs_ab)\n",
    "dtm_svd_df = pd.DataFrame(dtm_svd)"
   ]
  },
  {
   "cell_type": "code",
   "execution_count": 9,
   "metadata": {
    "collapsed": false
   },
   "outputs": [
    {
     "data": {
      "text/plain": [
       "KMeans(algorithm='auto', copy_x=True, init='k-means++', max_iter=300,\n",
       "    n_clusters=10, n_init=10, n_jobs=1, precompute_distances='auto',\n",
       "    random_state=None, tol=0.0001, verbose=0)"
      ]
     },
     "execution_count": 9,
     "metadata": {},
     "output_type": "execute_result"
    }
   ],
   "source": [
    "# Fit the model on preprocessed abstract data\n",
    "\n",
    "km = KMeans(n_clusters=10)\n",
    "km.fit(dtm_svd)"
   ]
  },
  {
   "cell_type": "code",
   "execution_count": 10,
   "metadata": {
    "collapsed": false
   },
   "outputs": [],
   "source": [
    "# centroids for abstracts\n",
    "mu_digits_ab = km.cluster_centers_"
   ]
  },
  {
   "cell_type": "code",
   "execution_count": 11,
   "metadata": {
    "collapsed": false,
    "scrolled": true
   },
   "outputs": [
    {
     "data": {
      "text/plain": [
       "Counter({0: 12792,\n",
       "         1: 4456,\n",
       "         2: 19485,\n",
       "         3: 15530,\n",
       "         4: 6912,\n",
       "         5: 8712,\n",
       "         6: 12801,\n",
       "         7: 4708,\n",
       "         8: 6587,\n",
       "         9: 23526})"
      ]
     },
     "execution_count": 11,
     "metadata": {},
     "output_type": "execute_result"
    }
   ],
   "source": [
    "# Count up the number of abstracts in each cluster\n",
    "clusters = km.fit_predict(dtm_svd)\n",
    "Counter(clusters)"
   ]
  },
  {
   "cell_type": "code",
   "execution_count": 13,
   "metadata": {
    "collapsed": false
   },
   "outputs": [
    {
     "name": "stdout",
     "output_type": "stream",
     "text": [
      "                                    Topic 1:                                    \n",
      "ad abeta patients disease amyloid dementia tau beta brain alzheimer\n",
      "--------------------------------------------------------------------------------\n",
      "                                    Topic 2:                                    \n",
      "abeta beta app amyloid protein tau mice cells peptide cell\n",
      "--------------------------------------------------------------------------------\n",
      "                                    Topic 3:                                    \n",
      "tau phosphorylation csf microtubule protein phosphorylated neurofibrillary tangles phf tauopathies\n",
      "--------------------------------------------------------------------------------\n",
      "                                    Topic 4:                                    \n",
      "abeta ad tau csf mci apoe patients subjects controls allele\n",
      "--------------------------------------------------------------------------------\n",
      "                                    Topic 5:                                    \n",
      "apoe ad allele gene risk app onset genetic polymorphism genes\n",
      "--------------------------------------------------------------------------------\n",
      "                                    Topic 6:                                    \n",
      "app beta secretase amyloid protein precursor patients mice gamma mci\n",
      "--------------------------------------------------------------------------------\n",
      "                                    Topic 7:                                    \n",
      "dementia beta app amyloid risk apoe care tau vascular secretase\n",
      "--------------------------------------------------------------------------------\n",
      "                                    Topic 8:                                    \n",
      "apoe mice memory tau cognitive allele risk abeta age induced\n",
      "--------------------------------------------------------------------------------\n",
      "                                    Topic 9:                                    \n",
      "ad app treatment secretase care caregivers gamma tau donepezil drugs\n",
      "--------------------------------------------------------------------------------\n",
      "                                   Topic 10:                                    \n",
      "mci cognitive memory impairment app risk decline mild review research\n",
      "--------------------------------------------------------------------------------\n"
     ]
    }
   ],
   "source": [
    "# Topic modeling, which come from tfidf matrix containing 41634 features (words) and reduced to 300 in trunc_svd.\n",
    "\n",
    "def print_topic_top_words(pipe, n_topics=10, n_words=10):\n",
    "    cv = pipe.steps[0][1] # tfidf_vec, 115K x 41K\n",
    "    model = pipe.steps[1][1] # trunc_svd 41K x 300\n",
    "    feature_names = cv.get_feature_names() # word features from tfidf\n",
    "    \n",
    "    for topic_num in range(n_topics):\n",
    "        topic_mat = model.components_[topic_num] # words found in trunc_svd\n",
    "        \n",
    "        print('Topic {}:'.format(topic_num + 1).center(80)) \n",
    "        \n",
    "        topic_values = sorted(zip(topic_mat, feature_names), \n",
    "                              reverse=True)[:n_words]\n",
    "        print(' '.join([y for x,y in topic_values])) # returns a list/grouping of the most important words \n",
    "        print('-'*80)\n",
    "        \n",
    "        \n",
    "print_topic_top_words(pipe)"
   ]
  },
  {
   "cell_type": "code",
   "execution_count": 14,
   "metadata": {
    "collapsed": false
   },
   "outputs": [
    {
     "data": {
      "text/plain": [
       "41634"
      ]
     },
     "execution_count": 14,
     "metadata": {},
     "output_type": "execute_result"
    }
   ],
   "source": [
    "len(pipe.steps[0][1].get_feature_names())\n",
    "# feature_names is coming from tfidf vectorizer\n",
    "# from the 41634 words in the abstracts, chose to reduce to 300 in TruncSVD. "
   ]
  },
  {
   "cell_type": "code",
   "execution_count": 16,
   "metadata": {
    "collapsed": false
   },
   "outputs": [
    {
     "name": "stdout",
     "output_type": "stream",
     "text": [
      "Top Terms Per Cluster\n",
      "Cluster 0: diseases disease neurodegenerative disorders ad brain review alzheimer proteins protein\n",
      "Cluster 1: app secretase gamma beta amyloid abeta protein precursor ad processing\n",
      "Cluster 2: abeta ad amyloid beta peptide mice brain induced aggregation disease\n",
      "Cluster 3: ad patients mci subjects cognitive controls memory disease group mild\n",
      "Cluster 4: apoe ad risk allele gene genetic association onset polymorphism disease\n",
      "Cluster 5: tau phosphorylation protein ad microtubule phosphorylated csf neurofibrillary disease tangles\n",
      "Cluster 6: ad mice brain cells neurons activity disease expression induced alzheimer\n",
      "Cluster 7: beta amyloid protein peptide fibrils plaques formation disease aggregation ad\n",
      "Cluster 8: dementia patients cognitive disease clinical ad alzheimer risk treatment study\n",
      "Cluster 9: care caregivers dementia health caregiver family patients home patient people\n"
     ]
    }
   ],
   "source": [
    "import pdb\n",
    "# Goal here is to give each cluster a name/names based km.cluster_centers_ (set to mu_digits from earlier code)\n",
    "# and mapping to feature names from TruncSVD (pipe.steps[1][1] from pipeline).\n",
    "\n",
    "from sklearn.feature_extraction.text import TfidfTransformer\n",
    "\n",
    "print('Top Terms Per Cluster')\n",
    "original_space_centroids = pipe.steps[1][1].inverse_transform(mu_digits_ab)\n",
    "order_centroids = original_space_centroids.argsort()[:, ::-1]\n",
    "\n",
    "terms = pipe.steps[0][1].get_feature_names()\n",
    "for i in range(10):\n",
    "    print(\"Cluster %d:\" % i, end='')\n",
    "    for ind in order_centroids[i, :10]:\n",
    "        print(' %s' % terms[ind], end='')\n",
    "    print()"
   ]
  },
  {
   "cell_type": "markdown",
   "metadata": {},
   "source": [
    "#### Titles. What are the catchiest words used in journal article titles?"
   ]
  },
  {
   "cell_type": "code",
   "execution_count": 21,
   "metadata": {
    "collapsed": false
   },
   "outputs": [
    {
     "data": {
      "text/plain": [
       "115509"
      ]
     },
     "execution_count": 21,
     "metadata": {},
     "output_type": "execute_result"
    }
   ],
   "source": [
    "# all the titles\n",
    "docs_ti = []\n",
    "\n",
    "for i, title in enumerate(d['TI'] for d in docs): \n",
    "    docs_ti.append(title)\n",
    "    \n",
    "len(docs_ti)"
   ]
  },
  {
   "cell_type": "code",
   "execution_count": 22,
   "metadata": {
    "collapsed": false
   },
   "outputs": [],
   "source": [
    "dtm2_svd = pipe.fit_transform(docs_ti)\n",
    "dtm2_svd_df = pd.DataFrame(dtm2_svd)"
   ]
  },
  {
   "cell_type": "code",
   "execution_count": 23,
   "metadata": {
    "collapsed": false
   },
   "outputs": [
    {
     "data": {
      "text/plain": [
       "KMeans(algorithm='auto', copy_x=True, init='k-means++', max_iter=300,\n",
       "    n_clusters=10, n_init=10, n_jobs=1, precompute_distances='auto',\n",
       "    random_state=None, tol=0.0001, verbose=0)"
      ]
     },
     "execution_count": 23,
     "metadata": {},
     "output_type": "execute_result"
    }
   ],
   "source": [
    "km2 = KMeans(n_clusters=10)\n",
    "km2.fit(dtm2_svd)"
   ]
  },
  {
   "cell_type": "code",
   "execution_count": 25,
   "metadata": {
    "collapsed": false
   },
   "outputs": [
    {
     "data": {
      "text/plain": [
       "Counter({0: 12738,\n",
       "         1: 6968,\n",
       "         2: 29006,\n",
       "         3: 10368,\n",
       "         4: 34581,\n",
       "         5: 3880,\n",
       "         6: 5403,\n",
       "         7: 4078,\n",
       "         8: 4939,\n",
       "         9: 3548})"
      ]
     },
     "execution_count": 25,
     "metadata": {},
     "output_type": "execute_result"
    }
   ],
   "source": [
    "clusters_ti = km2.fit_predict(dtm2_svd)\n",
    "Counter(clusters_ti)"
   ]
  },
  {
   "cell_type": "code",
   "execution_count": 26,
   "metadata": {
    "collapsed": true
   },
   "outputs": [],
   "source": [
    "mu_digits_ti = km2.cluster_centers_"
   ]
  },
  {
   "cell_type": "code",
   "execution_count": 27,
   "metadata": {
    "collapsed": false
   },
   "outputs": [
    {
     "name": "stdout",
     "output_type": "stream",
     "text": [
      "Top Terms Per Cluster\n",
      "Cluster 0: amyloid beta protein precursor peptide alzheimer disease induced cells peptides\n",
      "Cluster 1: brain alzheimer disease human aging barrier blood expression mouse rat\n",
      "Cluster 2: disease alzheimer patients treatment risk model early analysis onset clinical\n",
      "Cluster 3: dementia alzheimer type patients vascular disease lewy frontotemporal bodies care\n",
      "Cluster 4: human abeta induced cells effects mice receptor protein cognitive activity\n",
      "Cluster 5: memory alzheimer disease learning impairment mice deficits spatial induced episodic\n",
      "Cluster 6: study alzheimer disease dementia patients risk pilot longitudinal based prospective\n",
      "Cluster 7: tau phosphorylation protein alzheimer disease pathology hyperphosphorylation microtubule phosphorylated amyloid\n",
      "Cluster 8: cognitive impairment mild disease alzheimer patients amnestic dementia study memory\n",
      "Cluster 9: diseases neurodegenerative disorders role disease therapeutic protein neurological parkinson alzheimer\n"
     ]
    }
   ],
   "source": [
    "print('Top Terms Per Cluster')\n",
    "original_space_centroids = pipe.steps[1][1].inverse_transform(mu_digits_ti)\n",
    "order_centroids = original_space_centroids.argsort()[:, ::-1]\n",
    "\n",
    "terms = pipe.steps[0][1].get_feature_names()\n",
    "for i in range(10):\n",
    "    print(\"Cluster %d:\" % i, end='')\n",
    "    for ind in order_centroids[i, :10]:\n",
    "        print(' %s' % terms[ind], end='')\n",
    "    print()"
   ]
  },
  {
   "cell_type": "code",
   "execution_count": 28,
   "metadata": {
    "collapsed": false
   },
   "outputs": [
    {
     "name": "stdout",
     "output_type": "stream",
     "text": [
      "                                    Topic 1:                                    \n",
      "disease alzheimer amyloid dementia beta cognitive patients protein impairment brain\n",
      "--------------------------------------------------------------------------------\n",
      "                                    Topic 2:                                    \n",
      "amyloid beta protein precursor peptide induced cells human tau mice\n",
      "--------------------------------------------------------------------------------\n",
      "                                    Topic 3:                                    \n",
      "cognitive impairment mild dementia amyloid beta decline memory amnestic vascular\n",
      "--------------------------------------------------------------------------------\n",
      "                                    Topic 4:                                    \n",
      "dementia type vascular lewy bodies frontotemporal study patients diagnosis senile\n",
      "--------------------------------------------------------------------------------\n",
      "                                    Topic 5:                                    \n",
      "brain neurodegenerative diseases tau human aging disorders mouse model mice\n",
      "--------------------------------------------------------------------------------\n",
      "                                    Topic 6:                                    \n",
      "protein neurodegenerative diseases precursor tau disorders role cerebrospinal fluid kinase\n",
      "--------------------------------------------------------------------------------\n",
      "                                    Topic 7:                                    \n",
      "neurodegenerative diseases beta treatment disorders role peptide amyloid therapeutic potential\n",
      "--------------------------------------------------------------------------------\n",
      "                                    Topic 8:                                    \n",
      "brain patients aging study imaging blood amyloid fluid cerebrospinal beta\n",
      "--------------------------------------------------------------------------------\n",
      "                                    Topic 9:                                    \n",
      "patients fluid cerebrospinal tau treatment biomarkers levels brain clinical diagnosis\n",
      "--------------------------------------------------------------------------------\n",
      "                                   Topic 10:                                    \n",
      "patients study fluid cerebrospinal risk induced gene association memory apolipoprotein\n",
      "--------------------------------------------------------------------------------\n"
     ]
    }
   ],
   "source": [
    "print_topic_top_words(pipe)"
   ]
  },
  {
   "cell_type": "markdown",
   "metadata": {},
   "source": [
    "#### Recommender?"
   ]
  },
  {
   "cell_type": "code",
   "execution_count": 17,
   "metadata": {
    "collapsed": false
   },
   "outputs": [],
   "source": [
    "# pipe.steps[1][1] refers to TruncatedSVD from pipeline\n",
    "svd = pipe.steps[1][1]"
   ]
  },
  {
   "cell_type": "code",
   "execution_count": 18,
   "metadata": {
    "collapsed": false
   },
   "outputs": [
    {
     "data": {
      "text/plain": [
       "<matplotlib.text.Text at 0x1103f8128>"
      ]
     },
     "execution_count": 18,
     "metadata": {},
     "output_type": "execute_result"
    },
    {
     "data": {
      "image/png": "[encoded data removed]",
      "text/plain": [
       "<matplotlib.figure.Figure at 0x10d8819e8>"
      ]
     },
     "metadata": {},
     "output_type": "display_data"
    }
   ],
   "source": [
    "plt.plot(svd.explained_variance_ratio_)\n",
    "plt.title('fraction of explained variance vs number of singular values')"
   ]
  },
  {
   "cell_type": "code",
   "execution_count": 19,
   "metadata": {
    "collapsed": false
   },
   "outputs": [
    {
     "data": {
      "image/png": "[encoded data removed]",
      "text/plain": [
       "<matplotlib.figure.Figure at 0x1104a1be0>"
      ]
     },
     "metadata": {},
     "output_type": "display_data"
    }
   ],
   "source": [
    "plt.plot(np.cumsum(svd.explained_variance_ratio_))\n",
    "plt.title('Cummulated fraction of explained variance vs number of singular values');"
   ]
  },
  {
   "cell_type": "code",
   "execution_count": 20,
   "metadata": {
    "collapsed": false
   },
   "outputs": [
    {
     "ename": "NameError",
     "evalue": "name 'ratings_pivot' is not defined",
     "output_type": "error",
     "traceback": [
      "\u001b[0;31m---------------------------------------------------------------------------\u001b[0m",
      "\u001b[0;31mNameError\u001b[0m                                 Traceback (most recent call last)",
      "\u001b[0;32m<ipython-input-20-04d6df7f0bdd>\u001b[0m in \u001b[0;36m<module>\u001b[0;34m()\u001b[0m\n\u001b[1;32m      2\u001b[0m \u001b[0;31m# this does not yet work.\u001b[0m\u001b[0;34m\u001b[0m\u001b[0;34m\u001b[0m\u001b[0m\n\u001b[1;32m      3\u001b[0m \u001b[0;32mfrom\u001b[0m \u001b[0msklearn\u001b[0m\u001b[0;34m.\u001b[0m\u001b[0mmetrics\u001b[0m\u001b[0;34m.\u001b[0m\u001b[0mpairwise\u001b[0m \u001b[0;32mimport\u001b[0m \u001b[0mcosine_similarity\u001b[0m\u001b[0;34m\u001b[0m\u001b[0m\n\u001b[0;32m----> 4\u001b[0;31m \u001b[0mcomponents\u001b[0m \u001b[0;34m=\u001b[0m \u001b[0mpd\u001b[0m\u001b[0;34m.\u001b[0m\u001b[0mDataFrame\u001b[0m\u001b[0;34m(\u001b[0m\u001b[0msvd\u001b[0m\u001b[0;34m.\u001b[0m\u001b[0mcomponents_\u001b[0m\u001b[0;34m,\u001b[0m \u001b[0mcolumns\u001b[0m\u001b[0;34m=\u001b[0m\u001b[0mratings_pivot\u001b[0m\u001b[0;34m.\u001b[0m\u001b[0mcolumns\u001b[0m\u001b[0;34m)\u001b[0m\u001b[0;34m\u001b[0m\u001b[0m\n\u001b[0m\u001b[1;32m      5\u001b[0m \u001b[0;32mdef\u001b[0m \u001b[0mitem_similarity_new\u001b[0m\u001b[0;34m(\u001b[0m\u001b[0mabstract1\u001b[0m\u001b[0;34m,\u001b[0m \u001b[0mabstract2\u001b[0m\u001b[0;34m)\u001b[0m\u001b[0;34m:\u001b[0m\u001b[0;34m\u001b[0m\u001b[0m\n\u001b[1;32m      6\u001b[0m     \u001b[0;32mreturn\u001b[0m \u001b[0mcosine_similarity\u001b[0m\u001b[0;34m(\u001b[0m\u001b[0mcomponents\u001b[0m\u001b[0;34m.\u001b[0m\u001b[0mloc\u001b[0m\u001b[0;34m[\u001b[0m\u001b[0;34m:\u001b[0m\u001b[0;34m,\u001b[0m\u001b[0mabstract1\u001b[0m\u001b[0;34m]\u001b[0m\u001b[0;34m.\u001b[0m\u001b[0mvalues\u001b[0m\u001b[0;34m.\u001b[0m\u001b[0mreshape\u001b[0m\u001b[0;34m(\u001b[0m\u001b[0;36m1\u001b[0m\u001b[0;34m,\u001b[0m\u001b[0;34m-\u001b[0m\u001b[0;36m1\u001b[0m\u001b[0;34m)\u001b[0m\u001b[0;34m,\u001b[0m\u001b[0mcomponents\u001b[0m\u001b[0;34m.\u001b[0m\u001b[0mloc\u001b[0m\u001b[0;34m[\u001b[0m\u001b[0;34m:\u001b[0m\u001b[0;34m,\u001b[0m\u001b[0mabstract2\u001b[0m\u001b[0;34m]\u001b[0m\u001b[0;34m.\u001b[0m\u001b[0mvalues\u001b[0m\u001b[0;34m.\u001b[0m\u001b[0mreshape\u001b[0m\u001b[0;34m(\u001b[0m\u001b[0;36m1\u001b[0m\u001b[0;34m,\u001b[0m\u001b[0;34m-\u001b[0m\u001b[0;36m1\u001b[0m\u001b[0;34m)\u001b[0m\u001b[0;34m)\u001b[0m\u001b[0;34m\u001b[0m\u001b[0m\n",
      "\u001b[0;31mNameError\u001b[0m: name 'ratings_pivot' is not defined"
     ]
    }
   ],
   "source": [
    "# transformed similarity\n",
    "# this does not yet work. \n",
    "from sklearn.metrics.pairwise import cosine_similarity\n",
    "\n",
    "components = pd.DataFrame(svd.components_, columns=ratings_pivot.columns) # need equiv of ratings_pivot here\n",
    "def item_similarity_new(abstract1, abstract2):\n",
    "    return cosine_similarity(components.loc[:,abstract1].values.reshape(1,-1),components.loc[:,abstract2].values.reshape(1,-1))\n",
    "\n",
    "def get_similar_abstracts(abstract, n=3, sim=item_similarity):\n",
    "    item_sims = []\n",
    "    for m in ratings_pivot.columns:\n",
    "        if movieId != m:\n",
    "            item_sims.append((m, sim(movieId,m)[0,0]))\n",
    "    res = sorted(item_sims, key=lambda x: -x[1])[:n]\n",
    "    return list(map(lambda x: (movies.title[x[0]], np.round(x[1],3)), res))"
   ]
  },
  {
   "cell_type": "code",
   "execution_count": null,
   "metadata": {
    "collapsed": true
   },
   "outputs": [],
   "source": []
  }
 ],
 "metadata": {
  "kernelspec": {
   "display_name": "Python 3",
   "language": "python",
   "name": "python3"
  },
  "language_info": {
   "codemirror_mode": {
    "name": "ipython",
    "version": 3
   },
   "file_extension": ".py",
   "mimetype": "text/x-python",
   "name": "python",
   "nbconvert_exporter": "python",
   "pygments_lexer": "ipython3",
   "version": "3.6.0"
  }
 },
 "nbformat": 4,
 "nbformat_minor": 2
}
